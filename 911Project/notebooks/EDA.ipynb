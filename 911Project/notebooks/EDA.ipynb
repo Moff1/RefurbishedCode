{
 "cells": [
  {
   "cell_type": "code",
   "execution_count": null,
   "id": "627b024f",
   "metadata": {},
   "outputs": [],
   "source": [
    "import seaborn as sns\n",
    "import datetime \n",
    "import numpy as np\n",
    "from datetime import datetime\n",
    "import matplotlib\n",
    "import matplotlib.pyplot as plt\n",
    "import pandas as pd\n",
    "import sklearn #(version == 1.2.2)\n",
    "from sklearn.tree import DecisionTreeClassifier\n",
    "from sklearn.preprocessing import LabelEncoder, OneHotEncoder\n",
    "from sklearn.model_selection import train_test_split\n",
    "from sklearn.metrics import accuracy_score\n",
    "from sklearn.metrics import confusion_matrix\n",
    "from sklearn.metrics import ConfusionMatrixDisplay\n",
    "from sklearn.metrics import classification_report\n",
    "from sklearn.neighbors import KNeighborsClassifier\n",
    "from sklearn.model_selection import cross_val_score\n",
    "from sklearn.preprocessing import StandardScaler\n",
    "from datetime import datetime\n",
    "import matplotlib.pyplot as plt\n",
    "import plotly.express as px\n",
    "import plotly.graph_objects as go\n",
    "from sklearn.model_selection import learning_curve\n",
    "%matplotlib inline"
   ]
  },
  {
   "cell_type": "code",
   "execution_count": null,
   "id": "3a977715",
   "metadata": {},
   "outputs": [],
   "source": [
    "Data911 = pd.read_csv(r\"C:\\Users\\JosephMoffatt\\OneDrive - Thought Logic\\Desktop\\GitHubRepos\\RefurbishedCode\\911Project\\raw_datasets\\911.csv\")\n",
    "Data911.head(5) \n",
    "#e - dummy variable"
   ]
  },
  {
   "cell_type": "code",
   "execution_count": null,
   "id": "bd25a98d",
   "metadata": {},
   "outputs": [],
   "source": [
    "CleanData911 = Data911.dropna()\n",
    "CleanData911"
   ]
  },
  {
   "cell_type": "code",
   "execution_count": null,
   "id": "38985b6b",
   "metadata": {},
   "outputs": [],
   "source": [
    "CleanData911.info()"
   ]
  },
  {
   "cell_type": "code",
   "execution_count": null,
   "id": "70c67fc5",
   "metadata": {},
   "outputs": [],
   "source": [
    "CleanData911.describe()"
   ]
  },
  {
   "cell_type": "code",
   "execution_count": null,
   "id": "399cc9ab",
   "metadata": {},
   "outputs": [],
   "source": [
    "Grouped911Calls = CleanData911.groupby(\"zip\")[\"e\"].count().reset_index(name=\"count\")\n",
    "Grouped911Calls = Grouped911Calls.sort_values(by=\"count\",ascending = False)\n",
    "Grouped911Calls.head(5)"
   ]
  },
  {
   "cell_type": "code",
   "execution_count": null,
   "id": "723f06d1",
   "metadata": {},
   "outputs": [],
   "source": [
    "GroupedTownCalls = CleanData911.groupby(\"twp\")[\"e\"].count().reset_index(name=\"count\")\n",
    "GroupedTownCalls = GroupedTownCalls.sort_values(by=\"count\",ascending = False)\n",
    "GroupedTownCalls.head(5)"
   ]
  },
  {
   "cell_type": "markdown",
   "id": "41745ba0",
   "metadata": {},
   "source": [
    "#### Unique number of 911 call titles"
   ]
  },
  {
   "cell_type": "code",
   "execution_count": null,
   "id": "ee4e481d",
   "metadata": {},
   "outputs": [],
   "source": [
    "len(CleanData911[\"title\"].unique())"
   ]
  },
  {
   "cell_type": "code",
   "execution_count": null,
   "id": "b71fffa5",
   "metadata": {},
   "outputs": [],
   "source": [
    "CleanData911['EMT Reason'] = CleanData911['title'].str.split(':').str[0]\n",
    "CleanData911"
   ]
  },
  {
   "cell_type": "code",
   "execution_count": null,
   "id": "f63aa5f0",
   "metadata": {},
   "outputs": [],
   "source": [
    "CleanData911['EMT Reason2'] = CleanData911.apply(lambda row : row['title'].split(':')[0],axis = 1)\n",
    "CleanData911 = CleanData911.drop(\"EMT Reason2\",axis = 1)\n",
    "CleanData911.groupby(\"EMT Reason\")[\"e\"].count()#reset_index(name=\"count\")"
   ]
  },
  {
   "cell_type": "code",
   "execution_count": null,
   "id": "0af8244f",
   "metadata": {},
   "outputs": [],
   "source": [
    "# Create a countplot (bar plot of category counts)\n",
    "fig = px.histogram(CleanData911, x=\"EMT Reason\", title='Count of 911 Calls by EMT Reason', \n",
    "                   labels={'category': \"EMT Reason\", 'count': 'Count'},\n",
    "                   color='EMT Reason')\n",
    "\n",
    "# Show the plot\n",
    "fig.show()"
   ]
  },
  {
   "cell_type": "code",
   "execution_count": null,
   "id": "5353167e",
   "metadata": {},
   "outputs": [],
   "source": [
    "CleanData911['timeStamp'] = pd.to_datetime(CleanData911['timeStamp'], format = '%Y-%m-%d %H:%M:%S')\n",
    "time = CleanData911['timeStamp'].iloc[0]\n",
    "time.weekday()\n",
    "CleanData911['Hour'] = CleanData911.apply(lambda row : row['timeStamp'].hour,axis = 1)\n",
    "CleanData911['Month'] = CleanData911.apply(lambda row : row['timeStamp'].month,axis = 1)"
   ]
  },
  {
   "cell_type": "code",
   "execution_count": null,
   "id": "7c0dd154",
   "metadata": {},
   "outputs": [],
   "source": [
    "dmap = {0:'Mon',1:'Tue',2:'Wed',3:'Thu',4:'Fri',5:'Sat',6:'Sun'}\n",
    "dmap"
   ]
  },
  {
   "cell_type": "code",
   "execution_count": null,
   "id": "89f8848f",
   "metadata": {},
   "outputs": [],
   "source": [
    "CleanData911['Day of Week'] = CleanData911.apply(lambda row : row['timeStamp'].weekday(),axis = 1)\n",
    "CleanData911['Day of Week'] = CleanData911['Day of Week'].map(dmap)"
   ]
  },
  {
   "cell_type": "code",
   "execution_count": null,
   "id": "fce0b454",
   "metadata": {},
   "outputs": [],
   "source": [
    "# Create a countplot (bar plot of category counts)\n",
    "fig = px.histogram(CleanData911, x=\"Day of Week\", title='Countplot of Categories', \n",
    "                   labels={'category': \"Day of Week\", 'count': 'EMT Reason'},\n",
    "                   color='EMT Reason')\n",
    "\n",
    "# Show the plot\n",
    "fig.show()"
   ]
  },
  {
   "cell_type": "code",
   "execution_count": null,
   "id": "30e7b5e2",
   "metadata": {},
   "outputs": [],
   "source": [
    "# Create a countplot (bar plot of category counts)\n",
    "fig = px.histogram(CleanData911, x=\"Month\", title='Countplot of Categories', \n",
    "                   labels={'category': \"Month\", 'count': 'EMT Reason'},\n",
    "                   color='EMT Reason')\n",
    "fig.update_layout(bargap=.2)\n",
    "# Show the plot\n",
    "fig.show()"
   ]
  },
  {
   "cell_type": "code",
   "execution_count": null,
   "id": "85f4415c",
   "metadata": {},
   "outputs": [],
   "source": [
    "# Create a countplot (bar plot of category counts)\n",
    "fig = px.histogram(CleanData911, x=\"Day of Week\", title='Countplot of Categories', \n",
    "                   labels={'category': \"Day of Week\", 'count': 'EMT Reason'},\n",
    "                   color='EMT Reason')\n",
    "\n",
    "# Show the plot\n",
    "fig.show()"
   ]
  },
  {
   "cell_type": "code",
   "execution_count": null,
   "id": "264ce953",
   "metadata": {},
   "outputs": [],
   "source": [
    "GroupByMonth = CleanData911.groupby(\"Month\")[\"e\"].count()\n",
    "GroupByMonthDF = GroupByMonth.to_frame()\n",
    "Tester = pd.DataFrame({'Count': GroupByMonth})\n",
    "GroupedByMonth = CleanData911.groupby(\"Month\")[\"e\"].count().reset_index(name=\"count\")\n",
    "GroupedByMonth = GroupedByMonth.sort_values(by=\"count\",ascending = False)"
   ]
  },
  {
   "cell_type": "code",
   "execution_count": null,
   "id": "323b6fb8",
   "metadata": {},
   "outputs": [],
   "source": [
    "# Create scatter plot with regression line\n",
    "fig = px.scatter(GroupedByMonth, x='Month', y='count', trendline='ols',\n",
    "                 title='Scatter Plot with Linear Regression',\n",
    "                 labels={'x': 'Month', 'y': 'Count'})\n",
    "\n",
    "# Show the plot\n",
    "fig.show()"
   ]
  },
  {
   "cell_type": "code",
   "execution_count": null,
   "id": "354cd7c9",
   "metadata": {},
   "outputs": [],
   "source": [
    "byMonth = CleanData911.groupby('Month').count()\n",
    "Test = byMonth.reset_index()"
   ]
  },
  {
   "cell_type": "code",
   "execution_count": null,
   "id": "5d67a0b8",
   "metadata": {},
   "outputs": [],
   "source": [
    "# Create scatter plot with regression line\n",
    "fig = px.scatter(Test, x='Month', y='e', trendline='ols',\n",
    "                 title='Scatter Plot with Linear Regression',\n",
    "                 labels={'x': 'Month', 'y': 'e'})\n",
    "\n",
    "# Show the plot\n",
    "fig.show()"
   ]
  },
  {
   "cell_type": "code",
   "execution_count": null,
   "id": "c029f0c5",
   "metadata": {},
   "outputs": [],
   "source": [
    "CleanData911['Date'] = CleanData911.apply(lambda row : row['timeStamp'].date(),axis = 1)\n",
    "byDate = CleanData911.groupby('Date').count()\n",
    "TestDate = byDate.reset_index()"
   ]
  },
  {
   "cell_type": "code",
   "execution_count": null,
   "id": "282f58b7",
   "metadata": {},
   "outputs": [],
   "source": [
    "fig = go.Figure()\n",
    "\n",
    "fig.add_trace(\n",
    "    go.Scatter(\n",
    "        x=TestDate['Date'],\n",
    "        y=TestDate['e'],\n",
    "        mode='lines+markers',  # Equivalent to marker='o' and linestyle='-'\n",
    "        name='Data',\n",
    "        line=dict(color='blue', width=2),  # Equivalent to color='b'\n",
    "        marker=dict(size=6)\n",
    "    )\n",
    ")\n",
    "\n",
    "# Update layout\n",
    "fig.update_layout(\n",
    "    title='Time Series Plot',\n",
    "    xaxis_title='Date',\n",
    "    yaxis_title='e',\n",
    "    xaxis=dict(\n",
    "        tickformat='%b %d, %Y',\n",
    "        tickangle=45,\n",
    "        showgrid=True\n",
    "    ),\n",
    "    yaxis=dict(\n",
    "        showgrid=True\n",
    "    ),\n",
    "    hovermode='x unified',\n",
    "    template='plotly_white',\n",
    "    showlegend=True\n",
    ")\n",
    "\n",
    "# Display the plot\n",
    "fig.show()"
   ]
  },
  {
   "cell_type": "code",
   "execution_count": null,
   "id": "bd9d2170",
   "metadata": {},
   "outputs": [],
   "source": [
    "EMS = CleanData911[CleanData911['EMT Reason'] == 'EMS']\n",
    "Fire = CleanData911[CleanData911['EMT Reason'] == 'Fire']\n",
    "Traffic = CleanData911[CleanData911['EMT Reason'] == 'Traffic']"
   ]
  },
  {
   "cell_type": "code",
   "execution_count": null,
   "id": "9612bf26",
   "metadata": {},
   "outputs": [],
   "source": [
    "byDateEMS = EMS.groupby('Date').count()\n",
    "byDateFire = Fire.groupby('Date').count()\n",
    "byDateTraffic = Traffic.groupby('Date').count()"
   ]
  },
  {
   "cell_type": "code",
   "execution_count": null,
   "id": "9e9adbde",
   "metadata": {},
   "outputs": [],
   "source": [
    "TestDateEMS = byDateEMS.reset_index()\n",
    "TestDateFire = byDateFire.reset_index()\n",
    "TestDateTraffic = byDateTraffic.reset_index()"
   ]
  },
  {
   "cell_type": "code",
   "execution_count": null,
   "id": "1849acb3",
   "metadata": {},
   "outputs": [],
   "source": [
    "fig = go.Figure()\n",
    "\n",
    "# EMS data\n",
    "fig.add_trace(\n",
    "    go.Scatter(\n",
    "        x=TestDateEMS['Date'],\n",
    "        y=TestDateEMS['e'],\n",
    "        mode='lines+markers',\n",
    "        name='EMS',\n",
    "        line=dict(color='blue', width=2),  # Equivalent to color='b', linestyle='-'\n",
    "        marker=dict(symbol='cross', size=8)  # Approximates marker='1' (tri-down)\n",
    "    )\n",
    ")\n",
    "\n",
    "# Fire data\n",
    "fig.add_trace(\n",
    "    go.Scatter(\n",
    "        x=TestDateFire['Date'],\n",
    "        y=TestDateFire['e'],\n",
    "        mode='lines+markers',\n",
    "        name='Fire',\n",
    "        line=dict(color='green', width=2),  # Equivalent to color='g', linestyle='-'\n",
    "        marker=dict(symbol='x', size=8)  # Approximates marker='2' (tri-up)\n",
    "    )\n",
    ")\n",
    "\n",
    "# Traffic data\n",
    "fig.add_trace(\n",
    "    go.Scatter(\n",
    "        x=TestDateTraffic['Date'],\n",
    "        y=TestDateTraffic['e'],\n",
    "        mode='lines+markers',\n",
    "        name='Traffic',\n",
    "        line=dict(color='red', width=2),  # Equivalent to color='r', linestyle='-'\n",
    "        marker=dict(symbol='diamond', size=8)  # Approximates marker='3' (tri-left)\n",
    "    )\n",
    ")\n",
    "\n",
    "# Update layout\n",
    "fig.update_layout(\n",
    "    title='Time Series Comparison: EMS, Fire, and Traffic',\n",
    "    xaxis_title='Date',\n",
    "    yaxis_title='e',\n",
    "    xaxis=dict(\n",
    "        tickformat='%b %d, %Y',\n",
    "        tickangle=45,\n",
    "        showgrid=True\n",
    "    ),\n",
    "    yaxis=dict(\n",
    "        showgrid=True\n",
    "    ),\n",
    "    hovermode='x unified',\n",
    "    template='plotly_white',\n",
    "    showlegend=True\n",
    ")\n",
    "\n",
    "# Display the plot\n",
    "fig.show()"
   ]
  }
 ],
 "metadata": {
  "language_info": {
   "name": "python"
  }
 },
 "nbformat": 4,
 "nbformat_minor": 5
}
