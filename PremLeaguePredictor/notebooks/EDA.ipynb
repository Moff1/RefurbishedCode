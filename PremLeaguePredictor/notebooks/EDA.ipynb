{
 "cells": [
  {
   "cell_type": "code",
   "execution_count": 1,
   "id": "2742aaf3",
   "metadata": {},
   "outputs": [],
   "source": [
    "from plotly.offline import download_plotlyjs,init_notebook_mode,plot,iplot\n",
    "import chart_studio.plotly as py\n",
    "import plotly.express as px\n",
    "from collections import Counter\n",
    "import pandas as pd\n",
    "import collections\n",
    "from collections import Counter\n",
    "import matplotlib.pyplot as plt\n",
    "import pandas as pd\n",
    "from bs4 import BeautifulSoup\n",
    "import requests\n",
    "import re\n",
    "import lxml\n",
    "from urllib.request import urlopen\n",
    "import pandas as pd\n",
    "from sklearn.model_selection import train_test_split\n",
    "from sklearn.linear_model import LogisticRegression\n",
    "from sklearn.metrics import confusion_matrix, classification_report\n",
    "from sklearn.pipeline import make_pipeline\n",
    "from sklearn.preprocessing import StandardScaler\n",
    "from sklearn import preprocessing\n",
    "import os"
   ]
  },
  {
   "cell_type": "code",
   "execution_count": 2,
   "id": "5013389e",
   "metadata": {},
   "outputs": [],
   "source": [
    "Season1 = pd.read_csv(r\"C:\\Users\\JosephMoffatt\\OneDrive - Thought Logic\\Desktop\\GitHubRepos\\RefurbishedCode\\PremLeaguePredictor\\raw_datasets\\2000-01.csv\") \n",
    "Season2 = pd.read_csv(r\"C:\\Users\\JosephMoffatt\\OneDrive - Thought Logic\\Desktop\\GitHubRepos\\RefurbishedCode\\PremLeaguePredictor\\raw_datasets\\2001-02.csv\")\n",
    "Season3 = pd.read_csv(r\"C:\\Users\\JosephMoffatt\\OneDrive - Thought Logic\\Desktop\\GitHubRepos\\RefurbishedCode\\PremLeaguePredictor\\raw_datasets\\2002-03.csv\")\n",
    "Season4 = pd.read_csv(r\"C:\\Users\\JosephMoffatt\\OneDrive - Thought Logic\\Desktop\\GitHubRepos\\RefurbishedCode\\PremLeaguePredictor\\raw_datasets\\2003-04.csv\")\n",
    "Season5 = pd.read_csv(r\"C:\\Users\\JosephMoffatt\\OneDrive - Thought Logic\\Desktop\\GitHubRepos\\RefurbishedCode\\PremLeaguePredictor\\raw_datasets\\2004-05.csv\")\n",
    "Season6 = pd.read_csv(r\"C:\\Users\\JosephMoffatt\\OneDrive - Thought Logic\\Desktop\\GitHubRepos\\RefurbishedCode\\PremLeaguePredictor\\raw_datasets\\2005-06.csv\")\n",
    "Season7 = pd.read_csv(r\"C:\\Users\\JosephMoffatt\\OneDrive - Thought Logic\\Desktop\\GitHubRepos\\RefurbishedCode\\PremLeaguePredictor\\raw_datasets\\2006-07.csv\")\n",
    "Season8 = pd.read_csv(r\"C:\\Users\\JosephMoffatt\\OneDrive - Thought Logic\\Desktop\\GitHubRepos\\RefurbishedCode\\PremLeaguePredictor\\raw_datasets\\2007-08.csv\")\n",
    "Season9 = pd.read_csv(r\"C:\\Users\\JosephMoffatt\\OneDrive - Thought Logic\\Desktop\\GitHubRepos\\RefurbishedCode\\PremLeaguePredictor\\raw_datasets\\2008-09.csv\")\n",
    "Season10 = pd.read_csv(r\"C:\\Users\\JosephMoffatt\\OneDrive - Thought Logic\\Desktop\\GitHubRepos\\RefurbishedCode\\PremLeaguePredictor\\raw_datasets\\2009-10.csv\")\n",
    "Season11 = pd.read_csv(r\"C:\\Users\\JosephMoffatt\\OneDrive - Thought Logic\\Desktop\\GitHubRepos\\RefurbishedCode\\PremLeaguePredictor\\raw_datasets\\2011-12.csv\")\n",
    "Season12 = pd.read_csv(r\"C:\\Users\\JosephMoffatt\\OneDrive - Thought Logic\\Desktop\\GitHubRepos\\RefurbishedCode\\PremLeaguePredictor\\raw_datasets\\2012-13.csv\")\n",
    "Season13 = pd.read_csv(r\"C:\\Users\\JosephMoffatt\\OneDrive - Thought Logic\\Desktop\\GitHubRepos\\RefurbishedCode\\PremLeaguePredictor\\raw_datasets\\2013-14.csv\")\n",
    "Season14 = pd.read_csv(r\"C:\\Users\\JosephMoffatt\\OneDrive - Thought Logic\\Desktop\\GitHubRepos\\RefurbishedCode\\PremLeaguePredictor\\raw_datasets\\2014-15.csv\")\n",
    "Season15 = pd.read_csv(r\"C:\\Users\\JosephMoffatt\\OneDrive - Thought Logic\\Desktop\\GitHubRepos\\RefurbishedCode\\PremLeaguePredictor\\raw_datasets\\2015-16.csv\")\n",
    "Season16 = pd.read_csv(r\"C:\\Users\\JosephMoffatt\\OneDrive - Thought Logic\\Desktop\\GitHubRepos\\RefurbishedCode\\PremLeaguePredictor\\raw_datasets\\2016-17.csv\")\n",
    "Season17 = pd.read_csv(r\"C:\\Users\\JosephMoffatt\\OneDrive - Thought Logic\\Desktop\\GitHubRepos\\RefurbishedCode\\PremLeaguePredictor\\raw_datasets\\2017-18.csv\")\n",
    "Season18 = pd.read_csv(r\"C:\\Users\\JosephMoffatt\\OneDrive - Thought Logic\\Desktop\\GitHubRepos\\RefurbishedCode\\PremLeaguePredictor\\raw_datasets\\2018-19.csv\")\n",
    "Season19 = pd.read_csv(r\"C:\\Users\\JosephMoffatt\\OneDrive - Thought Logic\\Desktop\\GitHubRepos\\RefurbishedCode\\PremLeaguePredictor\\raw_datasets\\2019-20.csv\")"
   ]
  },
  {
   "cell_type": "markdown",
   "id": "dd81f70f",
   "metadata": {},
   "source": [
    "*Note: 'Season19' dataset has the metrics for the 2020-2021 season and the 2021-2022 season*"
   ]
  },
  {
   "cell_type": "code",
   "execution_count": 17,
   "id": "1602039a",
   "metadata": {},
   "outputs": [],
   "source": [
    "ArrayOfDataFrames = []\n",
    "ArrayOfDataFrames.append(Season1)\n",
    "ArrayOfDataFrames.append(Season2)\n",
    "ArrayOfDataFrames.append(Season3)\n",
    "ArrayOfDataFrames.append(Season4)\n",
    "ArrayOfDataFrames.append(Season5)\n",
    "ArrayOfDataFrames.append(Season6)\n",
    "ArrayOfDataFrames.append(Season7)\n",
    "ArrayOfDataFrames.append(Season8)\n",
    "ArrayOfDataFrames.append(Season9)\n",
    "ArrayOfDataFrames.append(Season10)\n",
    "ArrayOfDataFrames.append(Season11)\n",
    "ArrayOfDataFrames.append(Season12)\n",
    "ArrayOfDataFrames.append(Season13)\n",
    "ArrayOfDataFrames.append(Season14)\n",
    "ArrayOfDataFrames.append(Season15)\n",
    "ArrayOfDataFrames.append(Season16)\n",
    "ArrayOfDataFrames.append(Season17)\n",
    "ArrayOfDataFrames.append(Season18)\n",
    "ArrayOfDataFrames.append(Season19)\n",
    "#ArrayOfDataFrames.append(Season20)\n",
    "#ArrayOfDataFrames.append(Season21)"
   ]
  },
  {
   "cell_type": "code",
   "execution_count": 18,
   "id": "8e5309c3",
   "metadata": {},
   "outputs": [
    {
     "data": {
      "text/plain": [
       "[    Div      Date       HomeTeam       AwayTeam  FTHG  FTAG FTR  HTHG  HTAG  \\\n",
       " 0    E0  19/08/00       Charlton       Man City     4     0   H     2     0   \n",
       " 1    E0  19/08/00        Chelsea       West Ham     4     2   H     1     0   \n",
       " 2    E0  19/08/00       Coventry  Middlesbrough     1     3   A     1     1   \n",
       " 3    E0  19/08/00          Derby    Southampton     2     2   D     1     2   \n",
       " 4    E0  19/08/00          Leeds        Everton     2     0   H     2     0   \n",
       " ..   ..       ...            ...            ...   ...   ...  ..   ...   ...   \n",
       " 375  E0  19/05/01       Man City        Chelsea     1     2   A     1     1   \n",
       " 376  E0  19/05/01  Middlesbrough       West Ham     2     1   H     2     1   \n",
       " 377  E0  19/05/01      Newcastle    Aston Villa     3     0   H     2     0   \n",
       " 378  E0  19/05/01    Southampton        Arsenal     3     2   H     0     1   \n",
       " 379  E0  19/05/01      Tottenham     Man United     3     1   H     1     1   \n",
       " \n",
       "     HTR  ...  HC AC  HF  AF  HO  AO  HY  AY  HR  AR  \n",
       " 0     H  ...   6  6  13  12   8   6   1   2   0   0  \n",
       " 1     H  ...   7  7  19  14   2   3   1   2   0   0  \n",
       " 2     D  ...   8  4  15  21   1   3   5   3   1   0  \n",
       " 3     A  ...   5  8  11  13   0   2   1   1   0   0  \n",
       " 4     H  ...   6  4  21  20   6   1   1   3   0   0  \n",
       " ..   ..  ...  .. ..  ..  ..  ..  ..  ..  ..  ..  ..  \n",
       " 375   D  ...   8  7  22  18   2   2   4   2   0   0  \n",
       " 376   H  ...   5  6  13  15   5   2   0   0   0   0  \n",
       " 377   H  ...   5  1  10  14   2   4   0   5   1   1  \n",
       " 378   A  ...   7  5  17  10   3   2   1   2   0   0  \n",
       " 379   D  ...   3  6  13  15   3   2   0   2   0   0  \n",
       " \n",
       " [380 rows x 28 columns],\n",
       "     Div      Date     HomeTeam     AwayTeam  FTHG  FTAG FTR  HTHG  HTAG HTR  \\\n",
       " 0    E0  18/08/01     Charlton      Everton     1     2   A     0     0   D   \n",
       " 1    E0  18/08/01        Derby    Blackburn     2     1   H     1     0   H   \n",
       " 2    E0  18/08/01        Leeds  Southampton     2     0   H     0     0   D   \n",
       " 3    E0  18/08/01    Leicester       Bolton     0     5   A     0     4   A   \n",
       " 4    E0  18/08/01    Liverpool     West Ham     2     1   H     1     1   D   \n",
       " ..   ..       ...          ...          ...   ...   ...  ..   ...   ...  ..   \n",
       " 375  E0  11/05/02    Liverpool      Ipswich     5     0   H     2     0   H   \n",
       " 376  E0  11/05/02   Man United     Charlton     0     0   D     0     0   D   \n",
       " 377  E0  11/05/02  Southampton    Newcastle     3     1   H     2     0   H   \n",
       " 378  E0  11/05/02   Sunderland        Derby     1     1   D     1     0   H   \n",
       " 379  E0  11/05/02     West Ham       Bolton     2     1   H     1     0   H   \n",
       " \n",
       "      ...  HC  AC  HF  AF  HO  AO  HY  AY  HR  AR  \n",
       " 0    ...   4   4  15  17   2   1   0   3   0   0  \n",
       " 1    ...   4  10  14  15   3   1   1   0   0   0  \n",
       " 2    ...  10   3  16  24   3   2   1   2   0   1  \n",
       " 3    ...   3   5  21  17   4   0   4   3   0   0  \n",
       " 4    ...   5   3  13  12   0   6   1   5   0   0  \n",
       " ..   ...  ..  ..  ..  ..  ..  ..  ..  ..  ..  ..  \n",
       " 375  ...   0   7  13   5   2   2   0   0   0   0  \n",
       " 376  ...   7   4   8   7   1   3   2   0   0   0  \n",
       " 377  ...   3   6  15  11   3   5   0   1   1   0  \n",
       " 378  ...   4   2  11  14   6   5   0   1   0   0  \n",
       " 379  ...   9   5   9  13   3   6   2   1   0   0  \n",
       " \n",
       " [380 rows x 28 columns],\n",
       "     Div        Date    HomeTeam     AwayTeam  FTHG  FTAG FTR  HTHG  HTAG HTR  \\\n",
       " 0    E0  17/08/2002   Blackburn   Sunderland     0     0   D     0     0   D   \n",
       " 1    E0  17/08/2002    Charlton      Chelsea     2     3   A     2     1   H   \n",
       " 2    E0  17/08/2002     Everton    Tottenham     2     2   D     1     0   H   \n",
       " 3    E0  17/08/2002      Fulham       Bolton     4     1   H     3     1   H   \n",
       " 4    E0  17/08/2002       Leeds     Man City     3     0   H     2     0   H   \n",
       " ..   ..         ...         ...          ...   ...   ...  ..   ...   ...  ..   \n",
       " 375  E0  11/05/2003       Leeds  Aston Villa     3     1   H     1     1   D   \n",
       " 376  E0  11/05/2003    Man City  Southampton     0     1   A     0     1   A   \n",
       " 377  E0  11/05/2003  Sunderland      Arsenal     0     4   A     0     2   A   \n",
       " 378  E0  11/05/2003   Tottenham    Blackburn     0     4   A     0     2   A   \n",
       " 379  E0  11/05/2003   West Brom    Newcastle     2     2   D     0     1   A   \n",
       " \n",
       "      ... HST  AST  HF  AF  HC  AC  HY  AY  HR  AR  \n",
       " 0    ...   5    3  14  11   9   1   1   2   0   0  \n",
       " 1    ...   5   12  10  12   3   6   0   3   1   0  \n",
       " 2    ...   9    5  18   4  10   5   1   1   0   0  \n",
       " 3    ...   6    1  16  12   7   4   1   2   0   0  \n",
       " 4    ...   8   10  13  13   2   7   1   1   0   0  \n",
       " ..   ...  ..  ...  ..  ..  ..  ..  ..  ..  ..  ..  \n",
       " 375  ...   5    6  18  14   1   8   0   1   0   0  \n",
       " 376  ...   7    3  14  14  10   4   3   4   0   0  \n",
       " 377  ...   3   13  16  12   6  10   1   0   0   0  \n",
       " 378  ...   7    9   9  12   6   3   1   1   1   0  \n",
       " 379  ...   3    9   9   8   2   8   0   0   0   0  \n",
       " \n",
       " [380 rows x 23 columns],\n",
       "     Div      Date    HomeTeam       AwayTeam  FTHG  FTAG FTR  HTHG  HTAG HTR  \\\n",
       " 0    E0  16/08/03     Arsenal        Everton     2     1   H     1     0   H   \n",
       " 1    E0  16/08/03  Birmingham      Tottenham     1     0   H     1     0   H   \n",
       " 2    E0  16/08/03   Blackburn         Wolves     5     1   H     2     0   H   \n",
       " 3    E0  16/08/03      Fulham  Middlesbrough     3     2   H     1     1   D   \n",
       " 4    E0  16/08/03   Leicester    Southampton     2     2   D     2     0   H   \n",
       " ..   ..       ...         ...            ...   ...   ...  ..   ...   ...  ..   \n",
       " 375  E0  15/05/04     Chelsea          Leeds     1     0   H     1     0   H   \n",
       " 376  E0  15/05/04   Liverpool      Newcastle     1     1   D     0     1   A   \n",
       " 377  E0  15/05/04    Man City        Everton     5     1   H     3     0   H   \n",
       " 378  E0  15/05/04  Portsmouth  Middlesbrough     5     1   H     3     1   H   \n",
       " 379  E0  15/05/04      Wolves      Tottenham     0     2   A     0     1   A   \n",
       " \n",
       "      ... HST  AST  HF  AF  HC  AC  HY  AY  HR  AR  \n",
       " 0    ...   5    7   8  15   6   9   1   3   1   1  \n",
       " 1    ...   5    7  20  27   1   4   3   5   0   0  \n",
       " 2    ...  13    5   8  14   6   2   1   1   0   0  \n",
       " 3    ...   9    5  18  16   7   6   1   1   0   0  \n",
       " 4    ...   7   10  27  15   2   7   3   1   0   0  \n",
       " ..   ...  ..  ...  ..  ..  ..  ..  ..  ..  ..  ..  \n",
       " 375  ...   9    0   5   9   9   2   0   0   0   0  \n",
       " 376  ...   4    5  11  17   8   1   1   1   0   0  \n",
       " 377  ...  11    0   5   8   7   3   1   1   0   0  \n",
       " 378  ...  10    4  12   8   7   2   0   0   0   0  \n",
       " 379  ...  10   12   6  11   5   3   1   1   1   0  \n",
       " \n",
       " [380 rows x 23 columns],\n",
       "     Div      Date       HomeTeam       AwayTeam  FTHG  FTAG FTR  HTHG  HTAG  \\\n",
       " 0    E0  14/08/04    Aston Villa    Southampton     2     0   H     2     0   \n",
       " 1    E0  14/08/04      Blackburn      West Brom     1     1   D     0     1   \n",
       " 2    E0  14/08/04         Bolton       Charlton     4     1   H     2     0   \n",
       " 3    E0  14/08/04       Man City         Fulham     1     1   D     1     0   \n",
       " 4    E0  14/08/04  Middlesbrough      Newcastle     2     2   D     0     1   \n",
       " ..   ..       ...            ...            ...   ...   ...  ..   ...   ...   \n",
       " 375  E0  15/05/05       Man City  Middlesbrough     1     1   D     0     1   \n",
       " 376  E0  15/05/05      Newcastle        Chelsea     1     1   D     1     1   \n",
       " 377  E0  15/05/05    Southampton     Man United     1     2   A     1     1   \n",
       " 378  E0  15/05/05      Tottenham      Blackburn     0     0   D     0     0   \n",
       " 379  E0  15/05/05      West Brom     Portsmouth     2     0   H     0     0   \n",
       " \n",
       "     HTR  ... HST  AST  HF  AF  HC  AC  HY  AY  HR  AR  \n",
       " 0     H  ...   5    2  14   9  12   6   0   0   0   0  \n",
       " 1     A  ...   4    2  15  17   4   5   1   0   0   0  \n",
       " 2     H  ...  11    5  10  12   9   5   1   1   0   0  \n",
       " 3     H  ...   5    2  14  12   9   4   0   2   0   0  \n",
       " 4     A  ...   8    4  16  13   6   7   3   1   0   0  \n",
       " ..   ..  ...  ..  ...  ..  ..  ..  ..  ..  ..  ..  ..  \n",
       " 375   A  ...   5    3  12  15  10   3   2   4   0   0  \n",
       " 376   D  ...   4    7  11  17   6   4   4   4   0   0  \n",
       " 377   D  ...   3    8  14  13   5   3   1   2   0   0  \n",
       " 378   D  ...   7    8  10  14   5   7   2   2   0   0  \n",
       " 379   D  ...   5    2  12  13   6   1   0   1   0   0  \n",
       " \n",
       " [380 rows x 23 columns],\n",
       "     Div      Date       HomeTeam       AwayTeam  FTHG  FTAG FTR  HTHG  HTAG  \\\n",
       " 0    E0  13/08/05    Aston Villa         Bolton     2     2   D     2     2   \n",
       " 1    E0  13/08/05        Everton     Man United     0     2   A     0     1   \n",
       " 2    E0  13/08/05         Fulham     Birmingham     0     0   D     0     0   \n",
       " 3    E0  13/08/05       Man City      West Brom     0     0   D     0     0   \n",
       " 4    E0  13/08/05  Middlesbrough      Liverpool     0     0   D     0     0   \n",
       " ..   ..       ...            ...            ...   ...   ...  ..   ...   ...   \n",
       " 375  E0  07/05/06         Fulham  Middlesbrough     1     0   H     0     0   \n",
       " 376  E0  07/05/06     Man United       Charlton     4     0   H     3     0   \n",
       " 377  E0  07/05/06      Newcastle        Chelsea     1     0   H     0     0   \n",
       " 378  E0  07/05/06     Portsmouth      Liverpool     1     3   A     0     0   \n",
       " 379  E0  07/05/06       West Ham      Tottenham     2     1   H     1     1   \n",
       " \n",
       "     HTR  ... HST  AST  HF  AF  HC  AC  HY  AY  HR  AR  \n",
       " 0     D  ...   2    6  14  16   7   8   0   2   0   0  \n",
       " 1     A  ...   5    5  15  14   8   6   3   1   0   0  \n",
       " 2     D  ...   7    4  12  13   6   6   1   2   0   0  \n",
       " 3     D  ...   8    3  13  11   3   6   2   3   0   0  \n",
       " 4     D  ...   2    7  17  11   5   0   2   3   1   0  \n",
       " ..   ..  ...  ..  ...  ..  ..  ..  ..  ..  ..  ..  ..  \n",
       " 375   D  ...   3    3   8  12   8   4   0   1   0   0  \n",
       " 376   H  ...  11    3   9   6   8   2   1   0   0   0  \n",
       " 377   D  ...   8    5  17  14   3   7   4   2   1   0  \n",
       " 378   D  ...   4    4   5  11   5   6   1   0   0   0  \n",
       " 379   D  ...   7    6  17   7  11   4   1   0   0   0  \n",
       " \n",
       " [380 rows x 23 columns],\n",
       "     Div      Date          HomeTeam     AwayTeam  FTHG  FTAG FTR  HTHG  HTAG  \\\n",
       " 0    E0  19/08/06           Arsenal  Aston Villa     1     1   D     0     0   \n",
       " 1    E0  19/08/06            Bolton    Tottenham     2     0   H     2     0   \n",
       " 2    E0  19/08/06           Everton      Watford     2     1   H     1     0   \n",
       " 3    E0  19/08/06         Newcastle        Wigan     2     1   H     1     0   \n",
       " 4    E0  19/08/06        Portsmouth    Blackburn     3     0   H     1     0   \n",
       " ..   ..       ...               ...          ...   ...   ...  ..   ...   ...   \n",
       " 375  E0  13/05/07     Middlesbrough       Fulham     3     1   H     2     1   \n",
       " 376  E0  13/05/07        Portsmouth      Arsenal     0     0   D     0     0   \n",
       " 377  E0  13/05/07  Sheffield United        Wigan     1     2   A     1     2   \n",
       " 378  E0  13/05/07         Tottenham     Man City     2     1   H     2     1   \n",
       " 379  E0  13/05/07           Watford    Newcastle     1     1   D     0     1   \n",
       " \n",
       "     HTR  ... HST  AST  HF  AF  HC  AC  HY  AY  HR  AR  \n",
       " 0     D  ...  11    3  10  19  18   1   1   2   0   0  \n",
       " 1     H  ...   6    6  19  22   6   3   0   1   0   0  \n",
       " 2     H  ...   2    8  12  13   0   6   2   2   0   0  \n",
       " 3     H  ...   8    9  17  20   4  11   1   2   0   0  \n",
       " 4     H  ...  16    7  20  17   6   2   2   1   0   2  \n",
       " ..   ..  ...  ..  ...  ..  ..  ..  ..  ..  ..  ..  ..  \n",
       " 375   H  ...  10    5  11  12  10   3   1   0   0   0  \n",
       " 376   D  ...   4    6  18  15   2   6   0   0   0   0  \n",
       " 377   A  ...   5    3  11  15  10   3   3   5   0   1  \n",
       " 378   H  ...   3    5  11  13   6   6   1   1   0   0  \n",
       " 379   A  ...   2    1  13   6   8   5   2   4   0   0  \n",
       " \n",
       " [380 rows x 23 columns],\n",
       "     Div      Date       HomeTeam     AwayTeam  FTHG  FTAG FTR  HTHG  HTAG HTR  \\\n",
       " 0    E0  11/08/07    Aston Villa    Liverpool     1     2   A     0     1   A   \n",
       " 1    E0  11/08/07         Bolton    Newcastle     1     3   A     0     3   A   \n",
       " 2    E0  11/08/07          Derby   Portsmouth     2     2   D     1     1   D   \n",
       " 3    E0  11/08/07        Everton        Wigan     2     1   H     1     0   H   \n",
       " 4    E0  11/08/07  Middlesbrough    Blackburn     1     2   A     1     0   H   \n",
       " ..   ..       ...            ...          ...   ...   ...  ..   ...   ...  ..   \n",
       " 375  E0  11/05/08     Portsmouth       Fulham     0     1   A     0     0   D   \n",
       " 376  E0  11/05/08     Sunderland      Arsenal     0     1   A     0     1   A   \n",
       " 377  E0  11/05/08      Tottenham    Liverpool     0     2   A     0     0   D   \n",
       " 378  E0  11/05/08       West Ham  Aston Villa     2     2   D     1     1   D   \n",
       " 379  E0  11/05/08          Wigan   Man United     0     2   A     0     1   A   \n",
       " \n",
       "      ... HST  AST  HF  AF  HC  AC  HY  AY  HR  AR  \n",
       " 0    ...   6    7  18  11   4   2   4   2   0   0  \n",
       " 1    ...   9    5  15  16   4   3   1   1   0   0  \n",
       " 2    ...   5    6  14  17   6   6   1   2   0   0  \n",
       " 3    ...   8    4   8  13   6   2   0   0   0   0  \n",
       " 4    ...   6    4  16  16  13   3   3   4   0   0  \n",
       " ..   ...  ..  ...  ..  ..  ..  ..  ..  ..  ..  ..  \n",
       " 375  ...  10    4  13  11   5   6   0   0   0   0  \n",
       " 376  ...   5    8  14  12   3   4   1   1   0   0  \n",
       " 377  ...   3   12  11   9   8   4   1   1   0   0  \n",
       " 378  ...   8    8   9  21   7   8   2   2   0   0  \n",
       " 379  ...   6    6  10   5   5  12   3   2   0   0  \n",
       " \n",
       " [380 rows x 23 columns],\n",
       "     Div      Date       HomeTeam       AwayTeam  FTHG  FTAG FTR  HTHG  HTAG  \\\n",
       " 0    E0  16/08/08        Arsenal      West Brom     1     0   H     1     0   \n",
       " 1    E0  16/08/08         Bolton          Stoke     3     1   H     3     0   \n",
       " 2    E0  16/08/08        Everton      Blackburn     2     3   A     1     1   \n",
       " 3    E0  16/08/08           Hull         Fulham     2     1   H     1     1   \n",
       " 4    E0  16/08/08  Middlesbrough      Tottenham     2     1   H     0     0   \n",
       " ..   ..       ...            ...            ...   ...   ...  ..   ...   ...   \n",
       " 375  E0  24/05/09      Liverpool      Tottenham     3     1   H     1     0   \n",
       " 376  E0  24/05/09       Man City         Bolton     1     0   H     1     0   \n",
       " 377  E0  24/05/09     Sunderland        Chelsea     2     3   A     0     0   \n",
       " 378  E0  24/05/09       West Ham  Middlesbrough     2     1   H     1     0   \n",
       " 379  E0  24/05/09          Wigan     Portsmouth     1     0   H     1     0   \n",
       " \n",
       "     HTR  ... HST  AST  HF  AF  HC  AC  HY  AY  HR  AR  \n",
       " 0     H  ...  14    4  11   8   7   5   0   0   0   0  \n",
       " 1     H  ...   8    2  13  12   4   3   1   2   0   0  \n",
       " 2     D  ...   5   11  11   9   3   5   2   2   0   0  \n",
       " 3     D  ...   6    6  10   9   5   6   3   0   0   0  \n",
       " 4     D  ...  10    5  11  12   7   9   1   2   0   0  \n",
       " ..   ..  ...  ..  ...  ..  ..  ..  ..  ..  ..  ..  ..  \n",
       " 375   H  ...   9    4  14   4   9   2   0   1   0   0  \n",
       " 376   H  ...  12    4   8  10  15   9   0   0   0   0  \n",
       " 377   D  ...   7    9   8   7   6   7   1   1   0   0  \n",
       " 378   H  ...   8    6  14  10   4   5   0   1   0   0  \n",
       " 379   H  ...  10    3   8  21   8   2   0   4   0   0  \n",
       " \n",
       " [380 rows x 23 columns],\n",
       "     Div      Date     HomeTeam    AwayTeam  FTHG  FTAG FTR  HTHG  HTAG HTR  \\\n",
       " 0    E0  15/08/09  Aston Villa       Wigan     0     2   A     0     1   A   \n",
       " 1    E0  15/08/09    Blackburn    Man City     0     2   A     0     1   A   \n",
       " 2    E0  15/08/09       Bolton  Sunderland     0     1   A     0     1   A   \n",
       " 3    E0  15/08/09      Chelsea        Hull     2     1   H     1     1   D   \n",
       " 4    E0  15/08/09      Everton     Arsenal     1     6   A     0     3   A   \n",
       " ..   ..       ...          ...         ...   ...   ...  ..   ...   ...  ..   \n",
       " 375  E0  09/05/10      Everton  Portsmouth     1     0   H     0     0   D   \n",
       " 376  E0  09/05/10         Hull   Liverpool     0     0   D     0     0   D   \n",
       " 377  E0  09/05/10   Man United       Stoke     4     0   H     2     0   H   \n",
       " 378  E0  09/05/10     West Ham    Man City     1     1   D     1     1   D   \n",
       " 379  E0  09/05/10       Wolves  Sunderland     2     1   H     1     1   D   \n",
       " \n",
       "      ... BbMx>2.5  BbAv>2.5  BbMx<2.5  BbAv<2.5  BbAH  BbAHh  BbMxAHH  \\\n",
       " 0    ...     2.04      1.92      1.91      1.81    21   0.00     1.28   \n",
       " 1    ...     2.15      2.04      1.78      1.71    24   0.00     2.58   \n",
       " 2    ...     2.25      2.12      1.70      1.66    23   0.00     1.68   \n",
       " 3    ...     1.67      1.58      2.44      2.26    22   0.00     1.03   \n",
       " 4    ...     2.20      2.06      1.77      1.70    24   0.00     2.27   \n",
       " ..   ...      ...       ...       ...       ...   ...    ...      ...   \n",
       " 375  ...     1.62      1.56      2.40      2.30    15   0.00     1.10   \n",
       " 376  ...     1.79      1.71      2.23      2.05    15   0.00     5.00   \n",
       " 377  ...     1.57      1.50      2.63      2.46    14  -2.25     2.08   \n",
       " 378  ...     1.67      1.60      2.30      2.20    13   0.00     3.25   \n",
       " 379  ...     2.00      1.92      1.94      1.84    21   0.00     1.73   \n",
       " \n",
       "      BbAvAHH  BbMxAHA  BbAvAHA  \n",
       " 0       1.22     4.40     3.99  \n",
       " 1       2.38     1.60     1.54  \n",
       " 2       1.61     2.33     2.23  \n",
       " 3       1.02    17.05    12.96  \n",
       " 4       2.20     1.73     1.63  \n",
       " ..       ...      ...      ...  \n",
       " 375     1.06    10.00     7.72  \n",
       " 376     4.38     1.20     1.18  \n",
       " 377     2.02     1.91     1.85  \n",
       " 378     2.99     1.44     1.35  \n",
       " 379     1.64     2.33     2.16  \n",
       " \n",
       " [380 rows x 71 columns],\n",
       "     Div      Date    HomeTeam     AwayTeam  FTHG  FTAG FTR  HTHG  HTAG HTR  \\\n",
       " 0    E0  13/08/11   Blackburn       Wolves     1     2   A     1     1   D   \n",
       " 1    E0  13/08/11      Fulham  Aston Villa     0     0   D     0     0   D   \n",
       " 2    E0  13/08/11   Liverpool   Sunderland     1     1   D     1     0   H   \n",
       " 3    E0  13/08/11   Newcastle      Arsenal     0     0   D     0     0   D   \n",
       " 4    E0  13/08/11         QPR       Bolton     0     4   A     0     1   A   \n",
       " ..   ..       ...         ...          ...   ...   ...  ..   ...   ...  ..   \n",
       " 375  E0  13/05/12  Sunderland   Man United     0     1   A     0     1   A   \n",
       " 376  E0  13/05/12     Swansea    Liverpool     1     0   H     0     0   D   \n",
       " 377  E0  13/05/12   Tottenham       Fulham     2     0   H     1     0   H   \n",
       " 378  E0  13/05/12   West Brom      Arsenal     2     3   A     2     2   D   \n",
       " 379  E0  13/05/12       Wigan       Wolves     3     2   H     2     1   H   \n",
       " \n",
       "      ... BbMx>2.5  BbAv>2.5  BbMx<2.5  BbAv<2.5  BbAH  BbAHh  BbMxAHH  \\\n",
       " 0    ...     2.06      1.96      1.89      1.82    18  -0.50     2.20   \n",
       " 1    ...     2.21      2.11      1.77      1.69    21  -0.25     1.83   \n",
       " 2    ...     1.92      1.85      2.01      1.92    21  -1.00     1.92   \n",
       " 3    ...     1.89      1.80      2.10      1.98    20   0.50     1.84   \n",
       " 4    ...     2.27      2.16      1.73      1.66    19  -0.25     2.00   \n",
       " ..   ...      ...       ...       ...       ...   ...    ...      ...   \n",
       " 375  ...     1.67      1.60      2.43      2.27    20   1.25     1.95   \n",
       " 376  ...     1.77      1.71      2.24      2.11    20   0.25     2.13   \n",
       " 377  ...     1.68      1.63      2.45      2.23    18  -1.25     1.93   \n",
       " 378  ...     1.67      1.58      2.50      2.31    18   0.75     2.14   \n",
       " 379  ...     1.67      1.59      2.43      2.26    22  -1.00     2.01   \n",
       " \n",
       "      BbAvAHH  BbMxAHA  BbAvAHA  \n",
       " 0       2.14     1.78     1.74  \n",
       " 1       1.80     2.14     2.08  \n",
       " 2       1.88     2.02     1.98  \n",
       " 3       1.79     2.16     2.10  \n",
       " 4       1.95     1.98     1.92  \n",
       " ..       ...      ...      ...  \n",
       " 375     1.89     2.03     1.97  \n",
       " 376     2.06     1.84     1.81  \n",
       " 377     1.90     2.02     1.97  \n",
       " 378     2.08     1.85     1.81  \n",
       " 379     1.96     1.97     1.90  \n",
       " \n",
       " [380 rows x 71 columns],\n",
       "     Div      Date   HomeTeam     AwayTeam  FTHG  FTAG FTR  HTHG  HTAG HTR  \\\n",
       " 0    E0  18/08/12    Arsenal   Sunderland     0     0   D     0     0   D   \n",
       " 1    E0  18/08/12     Fulham      Norwich     5     0   H     2     0   H   \n",
       " 2    E0  18/08/12  Newcastle    Tottenham     2     1   H     0     0   D   \n",
       " 3    E0  18/08/12        QPR      Swansea     0     5   A     0     1   A   \n",
       " 4    E0  18/08/12    Reading        Stoke     1     1   D     0     1   A   \n",
       " ..   ..       ...        ...          ...   ...   ...  ..   ...   ...  ..   \n",
       " 375  E0  19/05/13    Swansea       Fulham     0     3   A     0     1   A   \n",
       " 376  E0  19/05/13  Tottenham   Sunderland     1     0   H     0     0   D   \n",
       " 377  E0  19/05/13  West Brom   Man United     5     5   D     1     3   A   \n",
       " 378  E0  19/05/13   West Ham      Reading     4     2   H     2     0   H   \n",
       " 379  E0  19/05/13      Wigan  Aston Villa     2     2   D     2     1   H   \n",
       " \n",
       "      ... BbMx>2.5  BbAv>2.5  BbMx<2.5  BbAv<2.5  BbAH  BbAHh  BbMxAHH  \\\n",
       " 0    ...     1.83      1.76      2.15      2.05    23  -1.25     2.02   \n",
       " 1    ...     1.95      1.89      2.01      1.92    21  -0.50     1.83   \n",
       " 2    ...     2.00      1.88      2.01      1.92    23   0.00     1.93   \n",
       " 3    ...     2.18      2.09      1.81      1.73    22  -0.25     1.80   \n",
       " 4    ...     2.28      2.18      1.76      1.67    24  -0.25     2.07   \n",
       " ..   ...      ...       ...       ...       ...   ...    ...      ...   \n",
       " 375  ...     1.85      1.79      2.14      2.01    25  -0.75     1.98   \n",
       " 376  ...     1.59      1.53      2.58      2.43    28  -1.50     1.83   \n",
       " 377  ...     1.67      1.60      2.40      2.27    26   0.75     1.85   \n",
       " 378  ...     1.71      1.64      2.32      2.21    26  -1.00     2.17   \n",
       " 379  ...     1.78      1.71      2.25      2.11    26  -0.25     1.86   \n",
       " \n",
       "      BbAvAHH  BbMxAHA  BbAvAHA  \n",
       " 0       1.96     1.96     1.91  \n",
       " 1       1.80     2.14     2.09  \n",
       " 2       1.88     2.03     1.97  \n",
       " 3       1.75     2.21     2.13  \n",
       " 4       2.01     1.91     1.86  \n",
       " ..       ...      ...      ...  \n",
       " 375     1.95     1.96     1.91  \n",
       " 376     1.77     2.17     2.09  \n",
       " 377     1.80     2.14     2.07  \n",
       " 378     2.11     1.82     1.77  \n",
       " 379     1.79     2.15     2.07  \n",
       " \n",
       " [380 rows x 71 columns],\n",
       "     Div      Date     HomeTeam     AwayTeam  FTHG  FTAG FTR  HTHG  HTAG HTR  \\\n",
       " 0    E0  17/08/13      Arsenal  Aston Villa     1     3   A     1     1   D   \n",
       " 1    E0  17/08/13    Liverpool        Stoke     1     0   H     1     0   H   \n",
       " 2    E0  17/08/13      Norwich      Everton     2     2   D     0     0   D   \n",
       " 3    E0  17/08/13   Sunderland       Fulham     0     1   A     0     0   D   \n",
       " 4    E0  17/08/13      Swansea   Man United     1     4   A     0     2   A   \n",
       " ..   ..       ...          ...          ...   ...   ...  ..   ...   ...  ..   \n",
       " 375  E0  11/05/14      Norwich      Arsenal     0     2   A     0     0   D   \n",
       " 376  E0  11/05/14  Southampton   Man United     1     1   D     1     0   H   \n",
       " 377  E0  11/05/14   Sunderland      Swansea     1     3   A     0     2   A   \n",
       " 378  E0  11/05/14    Tottenham  Aston Villa     3     0   H     3     0   H   \n",
       " 379  E0  11/05/14    West Brom        Stoke     1     2   A     0     1   A   \n",
       " \n",
       "      ... BbMx>2.5  BbAv>2.5  BbMx<2.5  BbAv<2.5  BbAH  BbAHh  BbMxAHH  \\\n",
       " 0    ...     1.62      1.56      2.56      2.37   NaN    NaN      NaN   \n",
       " 1    ...     1.86      1.79      2.12      2.02   NaN    NaN      NaN   \n",
       " 2    ...     2.08      1.98      1.91      1.82   NaN    NaN      NaN   \n",
       " 3    ...     2.14      2.04      1.84      1.77   NaN    NaN      NaN   \n",
       " 4    ...     1.93      1.83      2.06      1.98   NaN    NaN      NaN   \n",
       " ..   ...      ...       ...       ...       ...   ...    ...      ...   \n",
       " 375  ...     1.65      1.57      2.50      2.36  25.0   0.75     1.85   \n",
       " 376  ...     1.80      1.71      2.20      2.12  27.0   0.00     1.90   \n",
       " 377  ...     1.95      1.86      2.06      1.94  24.0  -0.50     2.40   \n",
       " 378  ...     1.65      1.57      2.56      2.36  29.0  -1.00     1.86   \n",
       " 379  ...     1.93      1.84      2.05      1.96  25.0  -0.25     1.85   \n",
       " \n",
       "      BbAvAHH  BbMxAHA  BbAvAHA  \n",
       " 0        NaN      NaN      NaN  \n",
       " 1        NaN      NaN      NaN  \n",
       " 2        NaN      NaN      NaN  \n",
       " 3        NaN      NaN      NaN  \n",
       " 4        NaN      NaN      NaN  \n",
       " ..       ...      ...      ...  \n",
       " 375     1.80     2.12     2.07  \n",
       " 376     1.86     2.06     1.99  \n",
       " 377     2.30     1.68     1.63  \n",
       " 378     1.77     2.20     2.10  \n",
       " 379     1.76     2.18     2.11  \n",
       " \n",
       " [380 rows x 65 columns],\n",
       "     Div      Date    HomeTeam        AwayTeam  FTHG  FTAG FTR  HTHG  HTAG HTR  \\\n",
       " 0    E0  16/08/14     Arsenal  Crystal Palace     2     1   H     1     1   D   \n",
       " 1    E0  16/08/14   Leicester         Everton     2     2   D     1     2   A   \n",
       " 2    E0  16/08/14  Man United         Swansea     1     2   A     0     1   A   \n",
       " 3    E0  16/08/14         QPR            Hull     0     1   A     0     0   D   \n",
       " 4    E0  16/08/14       Stoke     Aston Villa     0     1   A     0     0   D   \n",
       " ..   ..       ...         ...             ...   ...   ...  ..   ...   ...  ..   \n",
       " 375  E0  24/05/15        Hull      Man United     0     0   D     0     0   D   \n",
       " 376  E0  24/05/15   Leicester             QPR     5     1   H     2     0   H   \n",
       " 377  E0  24/05/15    Man City     Southampton     2     0   H     1     0   H   \n",
       " 378  E0  24/05/15   Newcastle        West Ham     2     0   H     0     0   D   \n",
       " 379  E0  24/05/15       Stoke       Liverpool     6     1   H     5     0   H   \n",
       " \n",
       "      ... BbMx>2.5  BbAv>2.5  BbMx<2.5  BbAv<2.5  BbAH  BbAHh  BbMxAHH  \\\n",
       " 0    ...     1.77      1.72      2.26      2.10    24  -1.50     1.81   \n",
       " 1    ...     2.10      2.00      1.90      1.80    22   0.25     1.88   \n",
       " 2    ...     1.77      1.71      2.30      2.13    25  -1.50     2.18   \n",
       " 3    ...     2.52      2.36      1.65      1.58    24   0.00     1.80   \n",
       " 4    ...     2.42      2.31      1.67      1.60    23  -0.50     1.95   \n",
       " ..   ...      ...       ...       ...       ...   ...    ...      ...   \n",
       " 375  ...     1.88      1.81      2.16      1.99    25   0.50     1.76   \n",
       " 376  ...     1.59      1.55      2.65      2.41    28  -1.00     1.98   \n",
       " 377  ...     1.50      1.45      2.83      2.66    28  -1.00     2.00   \n",
       " 378  ...     1.70      1.64      2.40      2.25    25  -0.50     1.82   \n",
       " 379  ...     1.87      1.81      2.14      1.99    25   0.25     2.07   \n",
       " \n",
       "      BbAvAHH  BbMxAHA  BbAvAHA  \n",
       " 0       1.78     2.20     2.10  \n",
       " 1       1.85     2.10     2.02  \n",
       " 2       2.08     1.87     1.79  \n",
       " 3       1.73     2.25     2.14  \n",
       " 4       1.91     2.02     1.96  \n",
       " ..       ...      ...      ...  \n",
       " 375     1.71     2.27     2.19  \n",
       " 376     1.93     1.98     1.93  \n",
       " 377     1.94     2.03     1.93  \n",
       " 378     1.78     2.20     2.10  \n",
       " 379     2.02     1.88     1.85  \n",
       " \n",
       " [380 rows x 65 columns],\n",
       "     Div      Date     HomeTeam     AwayTeam  FTHG  FTAG FTR  HTHG  HTAG HTR  \\\n",
       " 0    E0  08/08/15  Bournemouth  Aston Villa     0     1   A     0     0   D   \n",
       " 1    E0  08/08/15      Chelsea      Swansea     2     2   D     2     1   H   \n",
       " 2    E0  08/08/15      Everton      Watford     2     2   D     0     1   A   \n",
       " 3    E0  08/08/15    Leicester   Sunderland     4     2   H     3     0   H   \n",
       " 4    E0  08/08/15   Man United    Tottenham     1     0   H     1     0   H   \n",
       " ..   ..       ...          ...          ...   ...   ...  ..   ...   ...  ..   \n",
       " 375  E0  15/05/16        Stoke     West Ham     2     1   H     0     1   A   \n",
       " 376  E0  15/05/16      Swansea     Man City     1     1   D     1     1   D   \n",
       " 377  E0  15/05/16      Watford   Sunderland     2     2   D     0     1   A   \n",
       " 378  E0  15/05/16    West Brom    Liverpool     1     1   D     1     1   D   \n",
       " 379  E0  17/05/16   Man United  Bournemouth     3     1   H     1     0   H   \n",
       " \n",
       "      ... BbMx>2.5  BbAv>2.5  BbMx<2.5  BbAv<2.5  BbAH  BbAHh  BbMxAHH  \\\n",
       " 0    ...     2.11      2.02      1.88      1.79    26  -0.50     1.98   \n",
       " 1    ...     1.88      1.80      2.07      1.99    27  -1.50     2.24   \n",
       " 2    ...     1.93      1.84      2.03      1.96    26  -1.00     2.28   \n",
       " 3    ...     2.27      2.18      1.73      1.67    26  -0.50     2.00   \n",
       " 4    ...     1.86      1.79      2.13      2.01    26  -1.00     2.20   \n",
       " ..   ...      ...       ...       ...       ...   ...    ...      ...   \n",
       " 375  ...     1.67      1.60      2.39      2.27    30   0.25     2.11   \n",
       " 376  ...     1.58      1.53      2.60      2.45    31   1.00     2.14   \n",
       " 377  ...     1.77      1.71      2.21      2.10    29  -0.50     2.06   \n",
       " 378  ...     1.79      1.72      2.19      2.09    30  -0.25     2.10   \n",
       " 379  ...     1.74      1.66      2.30      2.20    29  -0.75     1.88   \n",
       " \n",
       "      BbAvAHH  BbMxAHA  BbAvAHA  \n",
       " 0       1.93     1.99     1.92  \n",
       " 1       2.16     1.80     1.73  \n",
       " 2       2.18     1.76     1.71  \n",
       " 3       1.95     1.96     1.90  \n",
       " 4       2.09     1.82     1.78  \n",
       " ..       ...      ...      ...  \n",
       " 375     2.03     1.87     1.83  \n",
       " 376     2.05     1.85     1.81  \n",
       " 377     2.01     1.91     1.85  \n",
       " 378     2.05     1.86     1.81  \n",
       " 379     1.84     2.08     2.02  \n",
       " \n",
       " [380 rows x 62 columns],\n",
       "     Div      Date        HomeTeam        AwayTeam  FTHG  FTAG FTR  HTHG  HTAG  \\\n",
       " 0    E0  13/08/16         Burnley         Swansea     0     1   A     0     0   \n",
       " 1    E0  13/08/16  Crystal Palace       West Brom     0     1   A     0     0   \n",
       " 2    E0  13/08/16         Everton       Tottenham     1     1   D     1     0   \n",
       " 3    E0  13/08/16            Hull       Leicester     2     1   H     1     0   \n",
       " 4    E0  13/08/16        Man City      Sunderland     2     1   H     1     0   \n",
       " ..   ..       ...             ...             ...   ...   ...  ..   ...   ...   \n",
       " 375  E0  21/05/17       Liverpool   Middlesbrough     3     0   H     1     0   \n",
       " 376  E0  21/05/17      Man United  Crystal Palace     2     0   H     2     0   \n",
       " 377  E0  21/05/17     Southampton           Stoke     0     1   A     0     0   \n",
       " 378  E0  21/05/17         Swansea       West Brom     2     1   H     0     1   \n",
       " 379  E0  21/05/17         Watford        Man City     0     5   A     0     4   \n",
       " \n",
       "     HTR  ... BbAv<2.5  BbAH  BbAHh  BbMxAHH  BbAvAHH  BbMxAHA  BbAvAHA   PSCH  \\\n",
       " 0     D  ...     1.61    32  -0.25     2.13     2.06     1.86     1.81   2.79   \n",
       " 1     D  ...     1.52    33  -0.50     2.07     2.00     1.90     1.85   2.25   \n",
       " 2     H  ...     1.77    32   0.25     1.91     1.85     2.09     2.00   3.64   \n",
       " 3     H  ...     1.67    31   0.25     2.35     2.26     2.03     1.67   4.68   \n",
       " 4     H  ...     2.48    34  -1.50     1.81     1.73     2.20     2.14   1.25   \n",
       " ..   ..  ...      ...   ...    ...      ...      ...      ...      ...    ...   \n",
       " 375   H  ...     2.73    18  -2.50     2.02     1.97     1.95     1.90   1.15   \n",
       " 376   H  ...     1.81    19  -0.25     2.19     2.11     1.85     1.79   2.35   \n",
       " 377   D  ...     2.01    18  -0.75     2.03     1.98     1.93     1.88   1.64   \n",
       " 378   A  ...     1.98    19  -0.50     2.11     2.06     1.86     1.82   2.29   \n",
       " 379   A  ...     2.80    18   1.75     1.99     1.94     2.00     1.93  18.00   \n",
       " \n",
       "       PSCD   PSCA  \n",
       " 0     3.16   2.89  \n",
       " 1     3.15   3.86  \n",
       " 2     3.54   2.16  \n",
       " 3     3.50   1.92  \n",
       " 4     6.50  14.50  \n",
       " ..     ...    ...  \n",
       " 375  10.50  19.09  \n",
       " 376   3.38   3.35  \n",
       " 377   4.37   5.53  \n",
       " 378   3.45   3.40  \n",
       " 379   9.70   1.16  \n",
       " \n",
       " [380 rows x 65 columns],\n",
       "     Div      Date        HomeTeam      AwayTeam  FTHG  FTAG FTR  HTHG  HTAG  \\\n",
       " 0    E0  11/08/17         Arsenal     Leicester     4     3   H     2     2   \n",
       " 1    E0  12/08/17        Brighton      Man City     0     2   A     0     0   \n",
       " 2    E0  12/08/17         Chelsea       Burnley     2     3   A     0     3   \n",
       " 3    E0  12/08/17  Crystal Palace  Huddersfield     0     3   A     0     2   \n",
       " 4    E0  12/08/17         Everton         Stoke     1     0   H     1     0   \n",
       " ..   ..       ...             ...           ...   ...   ...  ..   ...   ...   \n",
       " 375  E0  13/05/18       Newcastle       Chelsea     3     0   H     1     0   \n",
       " 376  E0  13/05/18     Southampton      Man City     0     1   A     0     0   \n",
       " 377  E0  13/05/18         Swansea         Stoke     1     2   A     1     2   \n",
       " 378  E0  13/05/18       Tottenham     Leicester     5     4   H     1     2   \n",
       " 379  E0  13/05/18        West Ham       Everton     3     1   H     1     0   \n",
       " \n",
       "     HTR  ... BbAv<2.5  BbAH  BbAHh  BbMxAHH  BbAvAHH  BbMxAHA  BbAvAHA   PSCH  \\\n",
       " 0     D  ...     2.32    21  -1.00     1.91     1.85     2.10     2.02   1.49   \n",
       " 1     D  ...     2.27    20   1.50     1.95     1.91     2.01     1.96  11.75   \n",
       " 2     A  ...     2.23    20  -1.75     2.03     1.97     1.95     1.90   1.33   \n",
       " 3     A  ...     1.72    18  -0.75     2.10     2.05     1.86     1.83   1.79   \n",
       " 4     H  ...     1.76    19  -0.75     1.94     1.90     2.01     1.98   1.82   \n",
       " ..   ..  ...      ...   ...    ...      ...      ...      ...      ...    ...   \n",
       " 375   H  ...     2.01    21   1.00     1.90     1.83     2.11     2.03   4.85   \n",
       " 376   D  ...     2.49    20   1.25     2.01     1.95     1.97     1.91   6.32   \n",
       " 377   A  ...     2.06    19  -0.50     1.94     1.88     2.03     1.98   2.08   \n",
       " 378   A  ...     2.84    20  -1.50     1.96     1.86     2.05     2.00   1.38   \n",
       " 379   H  ...     1.97    21  -0.25     2.09     2.03     1.88     1.84   2.35   \n",
       " \n",
       "      PSCD   PSCA  \n",
       " 0    4.73   7.25  \n",
       " 1    6.15   1.29  \n",
       " 2    5.40  12.25  \n",
       " 3    3.56   5.51  \n",
       " 4    3.49   5.42  \n",
       " ..    ...    ...  \n",
       " 375  3.72   1.80  \n",
       " 376  4.78   1.51  \n",
       " 377  3.56   3.82  \n",
       " 378  5.50   8.15  \n",
       " 379  3.40   3.28  \n",
       " \n",
       " [380 rows x 65 columns],\n",
       "     Div      Date      HomeTeam        AwayTeam  FTHG  FTAG FTR  HTHG  HTAG  \\\n",
       " 0    E0  10/08/18    Man United       Leicester     2     1   H     1     0   \n",
       " 1    E0  11/08/18   Bournemouth         Cardiff     2     0   H     1     0   \n",
       " 2    E0  11/08/18        Fulham  Crystal Palace     0     2   A     0     1   \n",
       " 3    E0  11/08/18  Huddersfield         Chelsea     0     3   A     0     2   \n",
       " 4    E0  11/08/18     Newcastle       Tottenham     1     2   A     1     2   \n",
       " ..   ..       ...           ...             ...   ...   ...  ..   ...   ...   \n",
       " 155  E0  08/12/18     Leicester       Tottenham     0     2   A     0     1   \n",
       " 156  E0  08/12/18    Man United          Fulham     4     1   H     3     0   \n",
       " 157  E0  08/12/18      West Ham  Crystal Palace     3     2   H     0     1   \n",
       " 158  E0  09/12/18     Newcastle          Wolves     1     2   A     1     1   \n",
       " 159  E0  10/12/18       Everton         Watford     2     2   D     1     0   \n",
       " \n",
       "     HTR  ... BbAv<2.5  BbAH  BbAHh  BbMxAHH  BbAvAHH  BbMxAHA  BbAvAHA  PSCH  \\\n",
       " 0     H  ...     1.79    17  -0.75     1.75     1.70     2.29     2.21  1.55   \n",
       " 1     H  ...     1.83    20  -0.75     2.20     2.13     1.80     1.75  1.88   \n",
       " 2     A  ...     1.87    22  -0.25     2.18     2.11     1.81     1.77  2.62   \n",
       " 3     A  ...     1.84    23   1.00     1.84     1.80     2.13     2.06  7.24   \n",
       " 4     A  ...     1.81    20   0.25     2.20     2.12     1.80     1.76  4.74   \n",
       " ..   ..  ...      ...   ...    ...      ...      ...      ...      ...   ...   \n",
       " 155   A  ...     2.02    21   0.25     2.22     2.17     1.77     1.73  4.34   \n",
       " 156   H  ...     2.42    23  -1.50     2.11     2.02     1.90     1.83  1.39   \n",
       " 157   A  ...     1.85    21  -0.25     1.97     1.93     1.98     1.94  2.32   \n",
       " 158   D  ...     1.58    21   0.25     1.73     1.68     2.31     2.25  2.97   \n",
       " 159   H  ...     1.92    23  -1.00     2.51     2.39     1.70     1.61  1.69   \n",
       " \n",
       "      PSCD  PSCA  \n",
       " 0    4.07  7.69  \n",
       " 1    3.61  4.70  \n",
       " 2    3.38  2.90  \n",
       " 3    3.95  1.58  \n",
       " 4    3.53  1.89  \n",
       " ..    ...   ...  \n",
       " 155  3.49  1.99  \n",
       " 156  5.09  9.42  \n",
       " 157  3.54  3.27  \n",
       " 158  3.05  2.83  \n",
       " 159  3.92  5.70  \n",
       " \n",
       " [160 rows x 62 columns],\n",
       "      Div        Date        HomeTeam          AwayTeam  FTHG  FTAG FTR  HTHG  \\\n",
       " 0     E0    9/8/2019       Liverpool           Norwich     4     1   H     4   \n",
       " 1     E0   10/8/2019        West Ham          Man City     0     5   A     0   \n",
       " 2     E0   10/8/2019     Bournemouth  Sheffield United     1     1   D     0   \n",
       " 3     E0   10/8/2019         Burnley       Southampton     3     0   H     0   \n",
       " 4     E0   10/8/2019  Crystal Palace           Everton     0     0   D     0   \n",
       " ...   ..         ...             ...               ...   ...   ...  ..   ...   \n",
       " 1015  E0  22/05/2022  Crystal Palace        Man United     1     0   H     1   \n",
       " 1016  E0  22/05/2022       Leicester       Southampton     4     1   H     0   \n",
       " 1017  E0  22/05/2022       Liverpool            Wolves     3     1   H     1   \n",
       " 1018  E0  22/05/2022        Man City       Aston Villa     3     2   H     0   \n",
       " 1019  E0  22/05/2022         Norwich         Tottenham     0     5   A     0   \n",
       " \n",
       "       HTAG HTR  ... AvgC<2.5  AHCh  B365CAHH  B365CAHA  PCAHH  PCAHA  MaxCAHH  \\\n",
       " 0        0   H  ...     3.43 -2.25      1.91      1.99   1.94   1.98     1.99   \n",
       " 1        1   A  ...     2.91  1.75      1.95      1.95   1.96   1.97     2.07   \n",
       " 2        0   D  ...     1.92 -0.50      1.95      1.95   1.98   1.95     2.00   \n",
       " 3        0   D  ...     1.71  0.00      1.87      2.03   1.89   2.03     1.90   \n",
       " 4        0   D  ...     1.71  0.25      1.82      2.08   1.97   1.96     2.03   \n",
       " ...    ...  ..  ...      ...   ...       ...       ...    ...    ...      ...   \n",
       " 1015     0   H  ...     2.04  0.25      1.68      2.15   1.74   2.23     1.88   \n",
       " 1016     0   D  ...     2.63 -0.75      1.83      2.07   1.88   2.03     1.94   \n",
       " 1017     1   D  ...     3.28 -2.50      2.02      1.77   2.06   1.83     2.19   \n",
       " 1018     1   A  ...     3.36 -2.25      2.06      1.84   2.05   1.86     2.09   \n",
       " 1019     2   A  ...     2.40  1.50      1.95      1.95   1.96   1.94     2.16   \n",
       " \n",
       "       MaxCAHA  AvgCAHH  AvgCAHA  \n",
       " 0        2.07     1.90     1.99  \n",
       " 1        1.98     1.97     1.92  \n",
       " 2        1.96     1.96     1.92  \n",
       " 3        2.07     1.86     2.02  \n",
       " 4        2.08     1.96     1.93  \n",
       " ...       ...      ...      ...  \n",
       " 1015     2.25     1.74     2.16  \n",
       " 1016     2.26     1.87     2.01  \n",
       " 1017     1.99     2.07     1.80  \n",
       " 1018     2.03     2.01     1.87  \n",
       " 1019     1.98     1.99     1.89  \n",
       " \n",
       " [1020 rows x 105 columns]]"
      ]
     },
     "execution_count": 18,
     "metadata": {},
     "output_type": "execute_result"
    }
   ],
   "source": [
    "ArrayOfDataFrames"
   ]
  },
  {
   "cell_type": "code",
   "execution_count": 19,
   "id": "2d6255dc",
   "metadata": {},
   "outputs": [
    {
     "data": {
      "text/plain": [
       "19"
      ]
     },
     "execution_count": 19,
     "metadata": {},
     "output_type": "execute_result"
    }
   ],
   "source": [
    "len(ArrayOfDataFrames)"
   ]
  },
  {
   "cell_type": "code",
   "execution_count": 20,
   "id": "68677ebc",
   "metadata": {},
   "outputs": [],
   "source": [
    "def get_all_goals_per_team(dataframe):\n",
    "    filtered_columns = [\"Div\",\"HomeTeam\",\"AwayTeam\",\"FTHG\",\"FTAG\",\"HTHG\",\"HTAG\"]\n",
    "    SeasonGoals = dataframe[filtered_columns]\n",
    "    SeasonGoals\n",
    "    \n",
    "    unique_teams = SeasonGoals['HomeTeam'].unique()\n",
    "\n",
    "    ArrayofTeamNames = []\n",
    "    \n",
    "    for i in range(0,len(unique_teams)):\n",
    "        ArrayofTeamNames.append(unique_teams[i])\n",
    "    ArrayofTeamNames\n",
    "    \n",
    "    ArrayofTotalGoals = []\n",
    "    for i in range(0,len(ArrayofTeamNames)):\n",
    "        Counter = 0\n",
    "        for j in range(0,len(SeasonGoals)):\n",
    "            if SeasonGoals[\"HomeTeam\"][j] == ArrayofTeamNames[i]:\n",
    "                Counter = Counter + int(SeasonGoals[\"FTHG\"][j])\n",
    "\n",
    "            if SeasonGoals[\"AwayTeam\"][j] == ArrayofTeamNames[i]:\n",
    "                Counter = Counter + int(SeasonGoals[\"FTAG\"][j])\n",
    "  \n",
    "        \n",
    "        ArrayofTotalGoals.append(Counter)\n",
    "        #print(ArrayofTotalGoals)\n",
    "    ArrayofTotalGoals\n",
    "    SeasonOneGoalsByTeam = {ArrayofTeamNames[i]: ArrayofTotalGoals[i] for i in range(len(ArrayofTeamNames))}\n",
    "    return SeasonOneGoalsByTeam"
   ]
  },
  {
   "cell_type": "code",
   "execution_count": 21,
   "id": "8663e4ac",
   "metadata": {},
   "outputs": [],
   "source": [
    "SeasonOneGoalsByTeam = get_all_goals_per_team(Season1)"
   ]
  },
  {
   "cell_type": "code",
   "execution_count": 22,
   "id": "5a2534ed",
   "metadata": {},
   "outputs": [],
   "source": [
    "Teams = list(SeasonOneGoalsByTeam.keys())\n",
    "NumberofGoals = list(SeasonOneGoalsByTeam.values())"
   ]
  },
  {
   "cell_type": "code",
   "execution_count": 23,
   "id": "01b34606",
   "metadata": {},
   "outputs": [
    {
     "data": {
      "text/html": [
       "<div>\n",
       "<style scoped>\n",
       "    .dataframe tbody tr th:only-of-type {\n",
       "        vertical-align: middle;\n",
       "    }\n",
       "\n",
       "    .dataframe tbody tr th {\n",
       "        vertical-align: top;\n",
       "    }\n",
       "\n",
       "    .dataframe thead th {\n",
       "        text-align: right;\n",
       "    }\n",
       "</style>\n",
       "<table border=\"1\" class=\"dataframe\">\n",
       "  <thead>\n",
       "    <tr style=\"text-align: right;\">\n",
       "      <th></th>\n",
       "      <th>Teams</th>\n",
       "      <th>NumberofGoals</th>\n",
       "    </tr>\n",
       "  </thead>\n",
       "  <tbody>\n",
       "    <tr>\n",
       "      <th>0</th>\n",
       "      <td>Charlton</td>\n",
       "      <td>50</td>\n",
       "    </tr>\n",
       "    <tr>\n",
       "      <th>1</th>\n",
       "      <td>Chelsea</td>\n",
       "      <td>68</td>\n",
       "    </tr>\n",
       "    <tr>\n",
       "      <th>2</th>\n",
       "      <td>Coventry</td>\n",
       "      <td>36</td>\n",
       "    </tr>\n",
       "    <tr>\n",
       "      <th>3</th>\n",
       "      <td>Derby</td>\n",
       "      <td>37</td>\n",
       "    </tr>\n",
       "    <tr>\n",
       "      <th>4</th>\n",
       "      <td>Leeds</td>\n",
       "      <td>64</td>\n",
       "    </tr>\n",
       "    <tr>\n",
       "      <th>5</th>\n",
       "      <td>Leicester</td>\n",
       "      <td>39</td>\n",
       "    </tr>\n",
       "    <tr>\n",
       "      <th>6</th>\n",
       "      <td>Liverpool</td>\n",
       "      <td>71</td>\n",
       "    </tr>\n",
       "    <tr>\n",
       "      <th>7</th>\n",
       "      <td>Sunderland</td>\n",
       "      <td>46</td>\n",
       "    </tr>\n",
       "    <tr>\n",
       "      <th>8</th>\n",
       "      <td>Tottenham</td>\n",
       "      <td>47</td>\n",
       "    </tr>\n",
       "    <tr>\n",
       "      <th>9</th>\n",
       "      <td>Man United</td>\n",
       "      <td>79</td>\n",
       "    </tr>\n",
       "    <tr>\n",
       "      <th>10</th>\n",
       "      <td>Arsenal</td>\n",
       "      <td>63</td>\n",
       "    </tr>\n",
       "    <tr>\n",
       "      <th>11</th>\n",
       "      <td>Bradford</td>\n",
       "      <td>30</td>\n",
       "    </tr>\n",
       "    <tr>\n",
       "      <th>12</th>\n",
       "      <td>Ipswich</td>\n",
       "      <td>57</td>\n",
       "    </tr>\n",
       "    <tr>\n",
       "      <th>13</th>\n",
       "      <td>Middlesbrough</td>\n",
       "      <td>44</td>\n",
       "    </tr>\n",
       "    <tr>\n",
       "      <th>14</th>\n",
       "      <td>Everton</td>\n",
       "      <td>45</td>\n",
       "    </tr>\n",
       "    <tr>\n",
       "      <th>15</th>\n",
       "      <td>Man City</td>\n",
       "      <td>41</td>\n",
       "    </tr>\n",
       "    <tr>\n",
       "      <th>16</th>\n",
       "      <td>Newcastle</td>\n",
       "      <td>44</td>\n",
       "    </tr>\n",
       "    <tr>\n",
       "      <th>17</th>\n",
       "      <td>Southampton</td>\n",
       "      <td>40</td>\n",
       "    </tr>\n",
       "    <tr>\n",
       "      <th>18</th>\n",
       "      <td>West Ham</td>\n",
       "      <td>45</td>\n",
       "    </tr>\n",
       "    <tr>\n",
       "      <th>19</th>\n",
       "      <td>Aston Villa</td>\n",
       "      <td>46</td>\n",
       "    </tr>\n",
       "  </tbody>\n",
       "</table>\n",
       "</div>"
      ],
      "text/plain": [
       "            Teams  NumberofGoals\n",
       "0        Charlton             50\n",
       "1         Chelsea             68\n",
       "2        Coventry             36\n",
       "3           Derby             37\n",
       "4           Leeds             64\n",
       "5       Leicester             39\n",
       "6       Liverpool             71\n",
       "7      Sunderland             46\n",
       "8       Tottenham             47\n",
       "9      Man United             79\n",
       "10        Arsenal             63\n",
       "11       Bradford             30\n",
       "12        Ipswich             57\n",
       "13  Middlesbrough             44\n",
       "14        Everton             45\n",
       "15       Man City             41\n",
       "16      Newcastle             44\n",
       "17    Southampton             40\n",
       "18       West Ham             45\n",
       "19    Aston Villa             46"
      ]
     },
     "execution_count": 23,
     "metadata": {},
     "output_type": "execute_result"
    }
   ],
   "source": [
    "SeasonOneGoalsDF = pd.DataFrame({'Teams':Teams,'NumberofGoals':NumberofGoals})\n",
    "SeasonOneGoalsDF"
   ]
  },
  {
   "cell_type": "code",
   "execution_count": 24,
   "id": "c76e25d8",
   "metadata": {},
   "outputs": [
    {
     "data": {
      "application/vnd.plotly.v1+json": {
       "config": {
        "plotlyServerURL": "https://plot.ly"
       },
       "data": [
        {
         "hovertemplate": "Teams=%{x}<br>NumberofGoals=%{y}<extra></extra>",
         "legendgroup": "",
         "marker": {
          "color": "#636efa",
          "pattern": {
           "shape": ""
          }
         },
         "name": "",
         "orientation": "v",
         "showlegend": false,
         "textposition": "auto",
         "type": "bar",
         "x": [
          "Charlton",
          "Chelsea",
          "Coventry",
          "Derby",
          "Leeds",
          "Leicester",
          "Liverpool",
          "Sunderland",
          "Tottenham",
          "Man United",
          "Arsenal",
          "Bradford",
          "Ipswich",
          "Middlesbrough",
          "Everton",
          "Man City",
          "Newcastle",
          "Southampton",
          "West Ham",
          "Aston Villa"
         ],
         "xaxis": "x",
         "y": {
          "bdata": "MkQkJUAnRy4vTz8eOSwtKSwoLS4=",
          "dtype": "i1"
         },
         "yaxis": "y"
        }
       ],
       "layout": {
        "barmode": "relative",
        "legend": {
         "tracegroupgap": 0
        },
        "template": {
         "data": {
          "bar": [
           {
            "error_x": {
             "color": "#2a3f5f"
            },
            "error_y": {
             "color": "#2a3f5f"
            },
            "marker": {
             "line": {
              "color": "#E5ECF6",
              "width": 0.5
             },
             "pattern": {
              "fillmode": "overlay",
              "size": 10,
              "solidity": 0.2
             }
            },
            "type": "bar"
           }
          ],
          "barpolar": [
           {
            "marker": {
             "line": {
              "color": "#E5ECF6",
              "width": 0.5
             },
             "pattern": {
              "fillmode": "overlay",
              "size": 10,
              "solidity": 0.2
             }
            },
            "type": "barpolar"
           }
          ],
          "carpet": [
           {
            "aaxis": {
             "endlinecolor": "#2a3f5f",
             "gridcolor": "white",
             "linecolor": "white",
             "minorgridcolor": "white",
             "startlinecolor": "#2a3f5f"
            },
            "baxis": {
             "endlinecolor": "#2a3f5f",
             "gridcolor": "white",
             "linecolor": "white",
             "minorgridcolor": "white",
             "startlinecolor": "#2a3f5f"
            },
            "type": "carpet"
           }
          ],
          "choropleth": [
           {
            "colorbar": {
             "outlinewidth": 0,
             "ticks": ""
            },
            "type": "choropleth"
           }
          ],
          "contour": [
           {
            "colorbar": {
             "outlinewidth": 0,
             "ticks": ""
            },
            "colorscale": [
             [
              0,
              "#0d0887"
             ],
             [
              0.1111111111111111,
              "#46039f"
             ],
             [
              0.2222222222222222,
              "#7201a8"
             ],
             [
              0.3333333333333333,
              "#9c179e"
             ],
             [
              0.4444444444444444,
              "#bd3786"
             ],
             [
              0.5555555555555556,
              "#d8576b"
             ],
             [
              0.6666666666666666,
              "#ed7953"
             ],
             [
              0.7777777777777778,
              "#fb9f3a"
             ],
             [
              0.8888888888888888,
              "#fdca26"
             ],
             [
              1,
              "#f0f921"
             ]
            ],
            "type": "contour"
           }
          ],
          "contourcarpet": [
           {
            "colorbar": {
             "outlinewidth": 0,
             "ticks": ""
            },
            "type": "contourcarpet"
           }
          ],
          "heatmap": [
           {
            "colorbar": {
             "outlinewidth": 0,
             "ticks": ""
            },
            "colorscale": [
             [
              0,
              "#0d0887"
             ],
             [
              0.1111111111111111,
              "#46039f"
             ],
             [
              0.2222222222222222,
              "#7201a8"
             ],
             [
              0.3333333333333333,
              "#9c179e"
             ],
             [
              0.4444444444444444,
              "#bd3786"
             ],
             [
              0.5555555555555556,
              "#d8576b"
             ],
             [
              0.6666666666666666,
              "#ed7953"
             ],
             [
              0.7777777777777778,
              "#fb9f3a"
             ],
             [
              0.8888888888888888,
              "#fdca26"
             ],
             [
              1,
              "#f0f921"
             ]
            ],
            "type": "heatmap"
           }
          ],
          "histogram": [
           {
            "marker": {
             "pattern": {
              "fillmode": "overlay",
              "size": 10,
              "solidity": 0.2
             }
            },
            "type": "histogram"
           }
          ],
          "histogram2d": [
           {
            "colorbar": {
             "outlinewidth": 0,
             "ticks": ""
            },
            "colorscale": [
             [
              0,
              "#0d0887"
             ],
             [
              0.1111111111111111,
              "#46039f"
             ],
             [
              0.2222222222222222,
              "#7201a8"
             ],
             [
              0.3333333333333333,
              "#9c179e"
             ],
             [
              0.4444444444444444,
              "#bd3786"
             ],
             [
              0.5555555555555556,
              "#d8576b"
             ],
             [
              0.6666666666666666,
              "#ed7953"
             ],
             [
              0.7777777777777778,
              "#fb9f3a"
             ],
             [
              0.8888888888888888,
              "#fdca26"
             ],
             [
              1,
              "#f0f921"
             ]
            ],
            "type": "histogram2d"
           }
          ],
          "histogram2dcontour": [
           {
            "colorbar": {
             "outlinewidth": 0,
             "ticks": ""
            },
            "colorscale": [
             [
              0,
              "#0d0887"
             ],
             [
              0.1111111111111111,
              "#46039f"
             ],
             [
              0.2222222222222222,
              "#7201a8"
             ],
             [
              0.3333333333333333,
              "#9c179e"
             ],
             [
              0.4444444444444444,
              "#bd3786"
             ],
             [
              0.5555555555555556,
              "#d8576b"
             ],
             [
              0.6666666666666666,
              "#ed7953"
             ],
             [
              0.7777777777777778,
              "#fb9f3a"
             ],
             [
              0.8888888888888888,
              "#fdca26"
             ],
             [
              1,
              "#f0f921"
             ]
            ],
            "type": "histogram2dcontour"
           }
          ],
          "mesh3d": [
           {
            "colorbar": {
             "outlinewidth": 0,
             "ticks": ""
            },
            "type": "mesh3d"
           }
          ],
          "parcoords": [
           {
            "line": {
             "colorbar": {
              "outlinewidth": 0,
              "ticks": ""
             }
            },
            "type": "parcoords"
           }
          ],
          "pie": [
           {
            "automargin": true,
            "type": "pie"
           }
          ],
          "scatter": [
           {
            "fillpattern": {
             "fillmode": "overlay",
             "size": 10,
             "solidity": 0.2
            },
            "type": "scatter"
           }
          ],
          "scatter3d": [
           {
            "line": {
             "colorbar": {
              "outlinewidth": 0,
              "ticks": ""
             }
            },
            "marker": {
             "colorbar": {
              "outlinewidth": 0,
              "ticks": ""
             }
            },
            "type": "scatter3d"
           }
          ],
          "scattercarpet": [
           {
            "marker": {
             "colorbar": {
              "outlinewidth": 0,
              "ticks": ""
             }
            },
            "type": "scattercarpet"
           }
          ],
          "scattergeo": [
           {
            "marker": {
             "colorbar": {
              "outlinewidth": 0,
              "ticks": ""
             }
            },
            "type": "scattergeo"
           }
          ],
          "scattergl": [
           {
            "marker": {
             "colorbar": {
              "outlinewidth": 0,
              "ticks": ""
             }
            },
            "type": "scattergl"
           }
          ],
          "scattermap": [
           {
            "marker": {
             "colorbar": {
              "outlinewidth": 0,
              "ticks": ""
             }
            },
            "type": "scattermap"
           }
          ],
          "scattermapbox": [
           {
            "marker": {
             "colorbar": {
              "outlinewidth": 0,
              "ticks": ""
             }
            },
            "type": "scattermapbox"
           }
          ],
          "scatterpolar": [
           {
            "marker": {
             "colorbar": {
              "outlinewidth": 0,
              "ticks": ""
             }
            },
            "type": "scatterpolar"
           }
          ],
          "scatterpolargl": [
           {
            "marker": {
             "colorbar": {
              "outlinewidth": 0,
              "ticks": ""
             }
            },
            "type": "scatterpolargl"
           }
          ],
          "scatterternary": [
           {
            "marker": {
             "colorbar": {
              "outlinewidth": 0,
              "ticks": ""
             }
            },
            "type": "scatterternary"
           }
          ],
          "surface": [
           {
            "colorbar": {
             "outlinewidth": 0,
             "ticks": ""
            },
            "colorscale": [
             [
              0,
              "#0d0887"
             ],
             [
              0.1111111111111111,
              "#46039f"
             ],
             [
              0.2222222222222222,
              "#7201a8"
             ],
             [
              0.3333333333333333,
              "#9c179e"
             ],
             [
              0.4444444444444444,
              "#bd3786"
             ],
             [
              0.5555555555555556,
              "#d8576b"
             ],
             [
              0.6666666666666666,
              "#ed7953"
             ],
             [
              0.7777777777777778,
              "#fb9f3a"
             ],
             [
              0.8888888888888888,
              "#fdca26"
             ],
             [
              1,
              "#f0f921"
             ]
            ],
            "type": "surface"
           }
          ],
          "table": [
           {
            "cells": {
             "fill": {
              "color": "#EBF0F8"
             },
             "line": {
              "color": "white"
             }
            },
            "header": {
             "fill": {
              "color": "#C8D4E3"
             },
             "line": {
              "color": "white"
             }
            },
            "type": "table"
           }
          ]
         },
         "layout": {
          "annotationdefaults": {
           "arrowcolor": "#2a3f5f",
           "arrowhead": 0,
           "arrowwidth": 1
          },
          "autotypenumbers": "strict",
          "coloraxis": {
           "colorbar": {
            "outlinewidth": 0,
            "ticks": ""
           }
          },
          "colorscale": {
           "diverging": [
            [
             0,
             "#8e0152"
            ],
            [
             0.1,
             "#c51b7d"
            ],
            [
             0.2,
             "#de77ae"
            ],
            [
             0.3,
             "#f1b6da"
            ],
            [
             0.4,
             "#fde0ef"
            ],
            [
             0.5,
             "#f7f7f7"
            ],
            [
             0.6,
             "#e6f5d0"
            ],
            [
             0.7,
             "#b8e186"
            ],
            [
             0.8,
             "#7fbc41"
            ],
            [
             0.9,
             "#4d9221"
            ],
            [
             1,
             "#276419"
            ]
           ],
           "sequential": [
            [
             0,
             "#0d0887"
            ],
            [
             0.1111111111111111,
             "#46039f"
            ],
            [
             0.2222222222222222,
             "#7201a8"
            ],
            [
             0.3333333333333333,
             "#9c179e"
            ],
            [
             0.4444444444444444,
             "#bd3786"
            ],
            [
             0.5555555555555556,
             "#d8576b"
            ],
            [
             0.6666666666666666,
             "#ed7953"
            ],
            [
             0.7777777777777778,
             "#fb9f3a"
            ],
            [
             0.8888888888888888,
             "#fdca26"
            ],
            [
             1,
             "#f0f921"
            ]
           ],
           "sequentialminus": [
            [
             0,
             "#0d0887"
            ],
            [
             0.1111111111111111,
             "#46039f"
            ],
            [
             0.2222222222222222,
             "#7201a8"
            ],
            [
             0.3333333333333333,
             "#9c179e"
            ],
            [
             0.4444444444444444,
             "#bd3786"
            ],
            [
             0.5555555555555556,
             "#d8576b"
            ],
            [
             0.6666666666666666,
             "#ed7953"
            ],
            [
             0.7777777777777778,
             "#fb9f3a"
            ],
            [
             0.8888888888888888,
             "#fdca26"
            ],
            [
             1,
             "#f0f921"
            ]
           ]
          },
          "colorway": [
           "#636efa",
           "#EF553B",
           "#00cc96",
           "#ab63fa",
           "#FFA15A",
           "#19d3f3",
           "#FF6692",
           "#B6E880",
           "#FF97FF",
           "#FECB52"
          ],
          "font": {
           "color": "#2a3f5f"
          },
          "geo": {
           "bgcolor": "white",
           "lakecolor": "white",
           "landcolor": "#E5ECF6",
           "showlakes": true,
           "showland": true,
           "subunitcolor": "white"
          },
          "hoverlabel": {
           "align": "left"
          },
          "hovermode": "closest",
          "mapbox": {
           "style": "light"
          },
          "paper_bgcolor": "white",
          "plot_bgcolor": "#E5ECF6",
          "polar": {
           "angularaxis": {
            "gridcolor": "white",
            "linecolor": "white",
            "ticks": ""
           },
           "bgcolor": "#E5ECF6",
           "radialaxis": {
            "gridcolor": "white",
            "linecolor": "white",
            "ticks": ""
           }
          },
          "scene": {
           "xaxis": {
            "backgroundcolor": "#E5ECF6",
            "gridcolor": "white",
            "gridwidth": 2,
            "linecolor": "white",
            "showbackground": true,
            "ticks": "",
            "zerolinecolor": "white"
           },
           "yaxis": {
            "backgroundcolor": "#E5ECF6",
            "gridcolor": "white",
            "gridwidth": 2,
            "linecolor": "white",
            "showbackground": true,
            "ticks": "",
            "zerolinecolor": "white"
           },
           "zaxis": {
            "backgroundcolor": "#E5ECF6",
            "gridcolor": "white",
            "gridwidth": 2,
            "linecolor": "white",
            "showbackground": true,
            "ticks": "",
            "zerolinecolor": "white"
           }
          },
          "shapedefaults": {
           "line": {
            "color": "#2a3f5f"
           }
          },
          "ternary": {
           "aaxis": {
            "gridcolor": "white",
            "linecolor": "white",
            "ticks": ""
           },
           "baxis": {
            "gridcolor": "white",
            "linecolor": "white",
            "ticks": ""
           },
           "bgcolor": "#E5ECF6",
           "caxis": {
            "gridcolor": "white",
            "linecolor": "white",
            "ticks": ""
           }
          },
          "title": {
           "x": 0.05
          },
          "xaxis": {
           "automargin": true,
           "gridcolor": "white",
           "linecolor": "white",
           "ticks": "",
           "title": {
            "standoff": 15
           },
           "zerolinecolor": "white",
           "zerolinewidth": 2
          },
          "yaxis": {
           "automargin": true,
           "gridcolor": "white",
           "linecolor": "white",
           "ticks": "",
           "title": {
            "standoff": 15
           },
           "zerolinecolor": "white",
           "zerolinewidth": 2
          }
         }
        },
        "title": {
         "text": "Total Goals Scored by Each Team in 2000-01 Season"
        },
        "xaxis": {
         "anchor": "y",
         "domain": [
          0,
          1
         ],
         "title": {
          "text": "Teams"
         }
        },
        "yaxis": {
         "anchor": "x",
         "domain": [
          0,
          1
         ],
         "title": {
          "text": "NumberofGoals"
         }
        }
       }
      }
     },
     "metadata": {},
     "output_type": "display_data"
    }
   ],
   "source": [
    "px.bar(SeasonOneGoalsDF, x='Teams', y='NumberofGoals', title='Total Goals Scored by Each Team in 2000-01 Season')"
   ]
  },
  {
   "cell_type": "code",
   "execution_count": null,
   "id": "c5e502c2",
   "metadata": {},
   "outputs": [],
   "source": []
  },
  {
   "cell_type": "code",
   "execution_count": null,
   "id": "a47ad856",
   "metadata": {},
   "outputs": [],
   "source": []
  },
  {
   "cell_type": "code",
   "execution_count": null,
   "id": "03e7a555",
   "metadata": {},
   "outputs": [],
   "source": []
  },
  {
   "cell_type": "code",
   "execution_count": null,
   "id": "7c30fb85",
   "metadata": {},
   "outputs": [],
   "source": []
  },
  {
   "cell_type": "code",
   "execution_count": null,
   "id": "b1977f7d",
   "metadata": {},
   "outputs": [],
   "source": []
  },
  {
   "cell_type": "code",
   "execution_count": null,
   "id": "1aa4da3a",
   "metadata": {},
   "outputs": [],
   "source": []
  },
  {
   "cell_type": "code",
   "execution_count": null,
   "id": "9f984052",
   "metadata": {},
   "outputs": [],
   "source": []
  },
  {
   "cell_type": "code",
   "execution_count": null,
   "id": "6cbf1453",
   "metadata": {},
   "outputs": [],
   "source": []
  },
  {
   "cell_type": "code",
   "execution_count": null,
   "id": "cd0630dd",
   "metadata": {},
   "outputs": [],
   "source": []
  },
  {
   "cell_type": "code",
   "execution_count": null,
   "id": "ed58b4f3",
   "metadata": {},
   "outputs": [],
   "source": []
  },
  {
   "cell_type": "code",
   "execution_count": null,
   "id": "0c8ebc59",
   "metadata": {},
   "outputs": [],
   "source": []
  },
  {
   "cell_type": "code",
   "execution_count": null,
   "id": "ac0efb65",
   "metadata": {},
   "outputs": [],
   "source": []
  }
 ],
 "metadata": {
  "kernelspec": {
   "display_name": "Python 3",
   "language": "python",
   "name": "python3"
  },
  "language_info": {
   "codemirror_mode": {
    "name": "ipython",
    "version": 3
   },
   "file_extension": ".py",
   "mimetype": "text/x-python",
   "name": "python",
   "nbconvert_exporter": "python",
   "pygments_lexer": "ipython3",
   "version": "3.13.5"
  }
 },
 "nbformat": 4,
 "nbformat_minor": 5
}
